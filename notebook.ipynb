{
 "cells": [
  {
   "cell_type": "code",
   "execution_count": null,
   "metadata": {},
   "outputs": [],
   "source": [
    "import pandas as pd\n",
    "import os \n",
    "import requests\n",
    "from dotenv import load_dotenv\n",
    "load_dotenv()\n",
    "\n",
    "\n",
    "def get_data(text, API_KEY):\n",
    "  # Define the request parameters\n",
    "  payload = {\n",
    "      \"textQuery\": text\n",
    "  }\n",
    "\n",
    "  headers = {\n",
    "      \"Content-Type\": \"application/json\",\n",
    "      \"X-Goog-Api-Key\": API_KEY,\n",
    "      \"X-Goog-FieldMask\": \"places.name,places.id,places.types,places.formattedAddress,places.location,places.rating,places.userRatingCount,places.displayName,places.reviews\"\n",
    "  }\n",
    "\n",
    "  # Send the POST request\n",
    "  response = requests.post(\n",
    "      \"https://places.googleapis.com/v1/places:searchText\", json=payload, headers=headers\n",
    "  )\n",
    "\n",
    "  # Check for successful response\n",
    "  if response.status_code == 200:\n",
    "    # Get the response data\n",
    "    data = response.json()\n",
    "  else:\n",
    "    print(f\"Error: {response.status_code}\")\n",
    "    raise ConnectionError(response.text)\n",
    "  \n",
    "  return data \n",
    "\n"
   ]
  },
  {
   "cell_type": "code",
   "execution_count": null,
   "metadata": {},
   "outputs": [],
   "source": [
    "paths = ['raw', 'data']\n",
    "\n",
    "for path in paths:\n",
    "    os.makedirs(f\"{path}\", exist_ok=True)"
   ]
  },
  {
   "cell_type": "code",
   "execution_count": null,
   "metadata": {},
   "outputs": [],
   "source": [
    "# google places api query\n",
    "query = \"Healthcare in Dubai\""
   ]
  },
  {
   "cell_type": "code",
   "execution_count": null,
   "metadata": {},
   "outputs": [],
   "source": [
    "# Replace 'API_KEY' with your actual Google Places API Key\n",
    "API_KEY = os.getenv('GOOGLE_MAPS_API_KEY')\n",
    "\n",
    "data = get_data(query, API_KEY=API_KEY)\n",
    "\n",
    "df = pd.DataFrame(data['places'])\n",
    "df.to_csv(f\"./raw/{query}\", index=False)\n",
    "\n",
    "# do some data transformation\n",
    "df['latitude'] = df.location.apply(lambda x: x['latitude'])\n",
    "df['longitude'] = df.location.apply(lambda x: x['longitude'])\n",
    "df  = df.drop('location', axis=1)\n",
    "df['reviews'] = df['reviews'].apply(lambda x: [review['text']['text'] if \"text\" in review\n",
    "                        else \"\" for review in x if review])\n",
    "separate_reviews = df.reviews.explode()\n",
    "df = df.merge(separate_reviews, left_index=True, right_index=True, suffixes=('_drop', '' )).reset_index(drop=True)\n",
    "df['query'] = query\n",
    "df.drop(['name','formattedAddress', 'displayName', 'reviews_drop'], inplace=True,axis=1)\n",
    "df.dropna(subset=['reviews'],inplace=True)\n",
    "df.drop(df[df.reviews == \"\"].index, inplace=True)\n",
    "\n",
    "# load transformed dataset to use in webapp\n",
    "df.to_csv(f\"./data/{query}\", index=False)"
   ]
  },
  {
   "cell_type": "code",
   "execution_count": null,
   "metadata": {},
   "outputs": [],
   "source": [
    "# create document to load into vector store\n",
    "from langchain_community.document_loaders import DataFrameLoader\n",
    "loader = DataFrameLoader(df[['rating', 'userRatingCount', 'reviews', 'query']], page_content_column=\"reviews\")\n",
    "documents = loader.load()\n",
    "documents"
   ]
  },
  {
   "cell_type": "code",
   "execution_count": null,
   "metadata": {},
   "outputs": [],
   "source": [
    "from langchain_together.embeddings import TogetherEmbeddings\n",
    "\n",
    "embeddings = TogetherEmbeddings(model=\"togethercomputer/m2-bert-80M-8k-retrieval\")\n",
    "\n",
    "__import__('pysqlite3')\n",
    "import sys\n",
    "sys.modules['sqlite3'] = sys.modules.pop('pysqlite3')\n",
    "import sqlite3\n",
    "from langchain_chroma import Chroma\n",
    "\n",
    "db = Chroma(persist_directory=\"./chroma_db\", embedding_function=embeddings)\n",
    "db.add_documents(documents=documents)"
   ]
  }
 ],
 "metadata": {
  "kernelspec": {
   "display_name": "Python 3 (ipykernel)",
   "language": "python",
   "name": "python3"
  },
  "language_info": {
   "codemirror_mode": {
    "name": "ipython",
    "version": 3
   },
   "file_extension": ".py",
   "mimetype": "text/x-python",
   "name": "python",
   "nbconvert_exporter": "python",
   "pygments_lexer": "ipython3",
   "version": "3.10.13"
  }
 },
 "nbformat": 4,
 "nbformat_minor": 2
}
